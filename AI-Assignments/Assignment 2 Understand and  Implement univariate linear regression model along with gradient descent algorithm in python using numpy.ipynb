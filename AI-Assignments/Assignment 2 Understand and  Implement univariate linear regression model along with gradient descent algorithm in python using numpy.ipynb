{
 "cells": [
  {
   "cell_type": "code",
   "execution_count": 29,
   "id": "a5296734-1acc-4208-85bf-4af1de8ee5ef",
   "metadata": {},
   "outputs": [],
   "source": [
    "import numpy as np\n",
    "import matplotlib.pyplot as plt"
   ]
  },
  {
   "cell_type": "code",
   "execution_count": 30,
   "id": "57ed0c78-f8e6-49c9-9006-f3cc2fe6199c",
   "metadata": {},
   "outputs": [],
   "source": [
    "X = np.array([1, 2, 3, 4, 5])\n",
    "Y = np.array([2, 4, 6, 8, 10])"
   ]
  },
  {
   "cell_type": "code",
   "execution_count": 31,
   "id": "30854ca5-121d-4f61-830f-f8e0bcdde660",
   "metadata": {},
   "outputs": [],
   "source": [
    "#Normalize shapes\n",
    "X = X.reshape(-1, 1)\n",
    "Y = Y.reshape(-1, 1)"
   ]
  },
  {
   "cell_type": "code",
   "execution_count": 32,
   "id": "678abdec-fea2-4bae-bdaf-d06f5cb1ba12",
   "metadata": {},
   "outputs": [],
   "source": [
    "#Initialize parameters\n",
    "m = 0 \n",
    "b = 0  "
   ]
  },
  {
   "cell_type": "code",
   "execution_count": 33,
   "id": "64025f61-21c2-45e5-8bc6-e51e7d9751ac",
   "metadata": {},
   "outputs": [],
   "source": [
    "# Hyperparameters\n",
    "learning_rate = 0.01\n",
    "epochs = 1000\n",
    "n = len(X)"
   ]
  },
  {
   "cell_type": "code",
   "execution_count": 34,
   "id": "68c4c680-d8a1-413e-918d-703fb03511c7",
   "metadata": {},
   "outputs": [],
   "source": [
    "# Gradient Descent Loop\n",
    "for i in range(epochs):\n",
    "    Y_pred = m * X + b"
   ]
  },
  {
   "cell_type": "code",
   "execution_count": 35,
   "id": "ba673e3b-5497-49a9-9446-b1464332e7d1",
   "metadata": {},
   "outputs": [],
   "source": [
    "# Compute error\n",
    "error = Y_pred - Y"
   ]
  },
  {
   "cell_type": "code",
   "execution_count": 36,
   "id": "a01e6596-ef31-42d8-a24a-91a084eedc86",
   "metadata": {},
   "outputs": [],
   "source": [
    "# Compute gradients\n",
    "dm = (2/n) * np.sum(error * X)\n",
    "db = (2/n) * np.sum(error)"
   ]
  },
  {
   "cell_type": "code",
   "execution_count": 37,
   "id": "bf58f470-7ad4-4ed7-ba1a-48233c48c9e4",
   "metadata": {},
   "outputs": [],
   "source": [
    "# Update parameters\n",
    "m -= learning_rate * dm\n",
    "b -= learning_rate * db"
   ]
  },
  {
   "cell_type": "code",
   "execution_count": 38,
   "id": "ea8e81dd-9d0b-494c-bddb-8a43af9f6b14",
   "metadata": {},
   "outputs": [],
   "source": [
    "# Print loss every 100 steps\n",
    "if i % 100 == 0:\n",
    "        loss = np.mean(error ** 2)\n",
    "        print(f\"Epoch {i}, Loss: {loss:.4f}, m: {m:.4f}, b: {b:.4f}\")"
   ]
  },
  {
   "cell_type": "code",
   "execution_count": 39,
   "id": "0a1e070d-e131-4137-84c7-ff349a569ae6",
   "metadata": {},
   "outputs": [],
   "source": [
    "#Final Prediction\n",
    "Y_final = m * X + b"
   ]
  },
  {
   "cell_type": "code",
   "execution_count": 40,
   "id": "34550614-8ee2-48e7-b9aa-6172681e47ef",
   "metadata": {},
   "outputs": [
    {
     "data": {
      "image/png": "[encoded data removed]",
      "text/plain": [
       "<Figure size 640x480 with 1 Axes>"
      ]
     },
     "metadata": {},
     "output_type": "display_data"
    }
   ],
   "source": [
    "#Plotting\n",
    "plt.scatter(X, Y, color='blue', label='Original data')\n",
    "plt.plot(X, Y_final, color='red', label='Fitted line')\n",
    "plt.xlabel('X')\n",
    "plt.ylabel('Y')\n",
    "plt.title('Univariate Linear Regression')\n",
    "plt.legend()\n",
    "plt.grid(True)\n",
    "plt.show()"
   ]
  },
  {
   "cell_type": "code",
   "execution_count": null,
   "id": "f36a659b-5399-457b-b8fe-5c10f800f4c3",
   "metadata": {},
   "outputs": [],
   "source": []
  },
  {
   "cell_type": "code",
   "execution_count": null,
   "id": "f881ee53-3227-4f23-845b-ec2edd91f7cd",
   "metadata": {},
   "outputs": [],
   "source": []
  }
 ],
 "metadata": {
  "kernelspec": {
   "display_name": "Python 3 (ipykernel)",
   "language": "python",
   "name": "python3"
  },
  "language_info": {
   "codemirror_mode": {
    "name": "ipython",
    "version": 3
   },
   "file_extension": ".py",
   "mimetype": "text/x-python",
   "name": "python",
   "nbconvert_exporter": "python",
   "pygments_lexer": "ipython3",
   "version": "3.13.2"
  }
 },
 "nbformat": 4,
 "nbformat_minor": 5
}
